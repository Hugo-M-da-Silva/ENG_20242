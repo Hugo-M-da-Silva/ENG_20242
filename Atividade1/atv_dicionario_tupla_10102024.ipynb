# 1
cidades = ["Vila Velha", "Vitória", "Joinville", "Florianópolis", "Rio de Janeiro"]
terceira = cidades[2]
print(terceira)
# 2
numeros = (1,2,3,1,4,1)
numeros.count(1)
# 3
animais = ('cachorro', 'gato', 'pássaro')
if "gato" in animais:
  print("Gato está na lista")
# 4
meses = ('janeiro', 'fevereiro', 'março', 'abril', 'maio')
ab = meses[3]
print(ab)
# 5
coordenadas = (-23.5505, -46.6333)
cord1 = coordenadas[0]
cord2 = coordenadas[1]
print(cord1)
print(cord2)
# 6
carro = {
    "marca": "Fiat",
    "modelo": "Uno",
    "ano": 1990
}
print(carro["modelo"])
# 7
carro = {
    "marca": "Fiat",
    "modelo": "Uno",
    "ano": 1990,
    "cor": "cinza"
}
print(carro)
# 8
pessoa = {'nome': 'João', 'idade': 30, 'cidade': 'São Paulo'}
pessoa.pop("idade")
print(pessoa)
# 9
produto = {
    "nome": "bola de futebol",
    "preço": 30,
    "quantidade": 9
}
for x in produto:
  print(produto)
# 10
estudante = {'nome': 'Maria', "curso": "Biologia", 'ano': 2}
if "curso" in estudante:
  print("A estudante está no curso de Biologia")
else:
  print("A estudante não está no curso de Biologia")

