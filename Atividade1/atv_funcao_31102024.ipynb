# Exercicio 1
def saudar_usuario():
    nome = input("Digite seu nome: ")
    cidade = input("Digite sua cidade: ")
    print(f"Olá, {nome}! Você vive em {cidade}.")

saudar_usuario()

# Exercicio 2
def calcular_retangulo():
    comprimento = float(input("Digite o comprimento do retângulo: "))
    largura = float(input("Digite a largura do retângulo: "))
    
    area = comprimento * largura
    perimetro = 2 * (comprimento + largura)
    
    print(f"A área do retângulo é: {area}")
    print(f"O perímetro do retângulo é: {perimetro}")

calcular_retangulo()

# Exercicio 3
def converter_medida():
    metros = float(input("Digite a medida em metros: "))
    
    centimetros = metros * 100
    milimetros = metros * 1000
    
    print(f"{metros} metros é igual a {centimetros} centímetros.")
    print(f"{metros} metros é igual a {milimetros} milímetros.")

converter_medida()

# Exercicio 4
def calcular_area_retangulo():
    base = float(input("Digite o tamanho da base do retângulo (cm): "))
    altura = float(input("Digite a altura do retângulo (cm): "))
    
    area = base * altura
    
    print(f"A área do retângulo é: {area} cm²")

calcular_area_retangulo()

# Exercicio 5
def comparar_idades():
    idade1 = int(input("Digite a idade da primeira pessoa: "))
    idade2 = int(input("Digite a idade da segunda pessoa: "))
    
    if idade1 == idade2:
        print("As idades são iguais.")
    else:
        print("As idades são diferentes.")

comparar_idades()

# Exercicio 6
def calcular_imc():
    peso = float(input("Digite seu peso (em kg): "))
    altura = float(input("Digite sua altura (em metros): "))
    
    imc = peso / (altura ** 2)
    
    print(f"Seu IMC é: {imc:.2f}")

calcular_imc()

# Exercicio 7
def comparar_numeros():
    num1 = float(input("Digite o primeiro número: "))
    num2 = float(input("Digite o segundo número: "))
    
    if num1 > num2:
        print("O primeiro número é maior que o segundo.")
    elif num1 < num2:
        print("O primeiro número é menor que o segundo.")
    else:
        print("Os números são iguais.")

# Exercicio 8
def calcular_media():
    num1 = float(input("Digite o primeiro número: "))
    num2 = float(input("Digite o segundo número: "))
    num3 = float(input("Digite o terceiro número: "))
    
    media = (num1 + num2 + num3) / 3
    
    print(f"A média aritmética dos números é: {media:.2f}")

calcular_media()

# Exercicio 9
def calcular_volume_cilindro():
    raio = float(input("Digite o raio do cilindro (em cm): "))
    altura = float(input("Digite a altura do cilindro (em cm): "))
    
    pi = 3.14159  # Aproximação de pi
    volume = pi * (raio ** 2) * altura
    
    print(f"O volume do cilindro é: {volume:.2f} cm³")

calcular_volume_cilindro()

# Exercicio 10
def comparar_palavras():
    palavra1 = input("Digite a primeira palavra: ")
    palavra2 = input("Digite a segunda palavra: ")
    
    if palavra1 == palavra2:
        print("As palavras são iguais.")
    else:
        print("As palavras são diferentes.")

comparar_palavras()
