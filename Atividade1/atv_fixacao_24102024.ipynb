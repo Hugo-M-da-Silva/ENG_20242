# Exercicio 1
# Criando a lista com cinco números inteiros
numeros = [1, 2, 3, 4, 5]

# Percorrendo a lista e imprimindo cada elemento multiplicado por 2
for numero in numeros:
    multi = numero * 2
    print(multi)

#Exercicio 2
# Lista inicial
frutas = ["maçã", "banana", "laranja", "uva"]

# Removendo "banana"
frutas.remove("banana")

# Adicionando "melancia"
frutas.append("melancia")

# Mostrando a lista atualizada
print(frutas)

# Exercicio 3
# Lista inicial
numeros = [1, 2, 3, 4, 5]

# Definindo maximo e minimo e imprimindo
maximo = max(numeros)
minimo = min(numeros)
print(maximo)
print(minimo)

# Exercicio 4
# Lista de palavras
palavras = ["casa", "teto", "parede"]

# Criando uma nova lista com a quantidade de letras de cada palavra
quantidade_letras = [len(palavra) for palavra in palavras]

# Exibindo a nova lista com a quantidade de letras
print(quantidade_letras)

# Exercicio 5
# Definindo a lista de números inteiros
numeros = [3, 2, 4, 1]

# Ordenando a lista em ordem crescente
numeros.sort()

# Exibindo a lista ordenada
print(numeros)

# Exercicio 6
# Criando a tupla com os números de 1 a 5
numeros = (1, 2, 3, 4, 5)

# Tentando alterar o segundo elemento
numeros[1] = 10  # Isso vai gerar um erro

# Exibindo a tupla original
print(numeros)

# Explicação
Isso ocorre pois nas tuplas são imutáveis, não podendo ser alteradas após a criação

# Exercicio 7
# Definindo uma tupla com números inteiros
numeros = (1, 2, 3, 4, 5)

# Calculando a soma dos números na tupla
soma = sum(numeros)

# Exibindo a soma
print(soma)

# Exercicio 8
# Criando uma tupla com cinco números
numeros = (10, 20, 30, 40, 50)

# Obtendo o primeiro e o último número da tupla
primeiro = numeros[0]
ultimo = numeros[-1]

# Exibindo os valores
print(primeiro)
print(ultimo)

# Exercicio 9
# Definindo a lista
lista = ["a", "b", "c", "d"]

# Convertendo a lista em uma tupla
tupla = tuple(lista)

# Exibindo a nova tupla
print(f"Nova tupla: {tupla}")

# Exibindo o tipo do novo objeto
print(f"O tipo do novo objeto é: {type(tupla)}")

# Confirmando a mudança de tipo
print("O tipo mudou de lista para tupla.")

# Exercicio 10
# Criando a tupla com três números inteiros e uma string
tupla = (1992, 2005, 3, "soberano")

# Verificando se o número 3 está presente na tupla
if 3 in tupla:
    print("O número 3 foi encontrado na tupla.")
else:
    print("O número 3 não foi encontrado na tupla.")

# Exercicio 11
# Definindo os sets
set1 = {1, 2, 3, 4}
set2 = {3, 4, 5, 6}

# Calculando a união dos sets
uniao = set1 | set2

# Calculando a interseção dos sets
interseccao = set1 & set2

# Calculando a diferença (elementos em set1 que não estão em set2)
diferenca = set1 - set2

# Exibindo os resultados
print(f"União: {uniao}")
print(f"Interseção: {interseccao}")
print(f"Diferença (set1 - set2): {diferenca}")

# Exercicio 12
# Definindo a lista com elementos duplicados
lista = [1, 2, 2, 3, 4, 4, 5]

# Transformando a lista em um set para remover duplicatas
resultado_set = set(lista)

# Exibindo o set resultante
print(f"Set com valores únicos: {resultado_set}")

# Exercicio 13
# Criando o set inicial
meu_set = {5, 10, 15, 20}

# Exibindo o set inicial
print(f"Set inicial: {meu_set}")

# Adicionando o número 25
meu_set.add(25)
print(f"Set após adicionar 25: {meu_set}")

# Removendo o valor 15
meu_set.remove(15)
print(f"Set após remover 15: {meu_set}")

# Exercicio 14
# Definindo o set
set = {1, 2, 3, 4, 5}

# Verificando se o número 7 está presente no set
if 7 in set:
    print("O número 7 foi encontrado no set.")
else:
    print("O número 7 não foi encontrado no set.")

# Exercicio 15
# Criando um set vazio
set = set()

# Adicionando valores ao set usando um laço for
for numero in range(1, 6):  # Adicionando os números de 1 a 5
    set.add(numero)

# Exibindo todos os valores armazenados no set
print(f"Valores no set: {set}")

# Exercicio 16
# Criando o dicionário inicial
dicionario = {
    'nome': 'Ana',
    'idade': 22,
    'curso': 'Engenharia'
}

# Adicionando a nova chave 'universidade'
dicionario['universidade'] = 'USP'

# Exibindo o dicionário completo
print(dicionario)

# Exercicio 17
# Definindo um dicionário com várias chaves e valores
dicionario = {
    'nome': 'Rogerio',
    'idade': 51,
    'cidade': 'Salvador',
    'profissão': 'treinador',
    'hobbies': ['futebol', 'leitura', 'cinema']
}

# Percorrendo o dicionário e imprimindo cada par chave-valor
for chave, valor in dicionario.items():
    print(f"Chave: {chave}, Valor: {valor}")

# Exercicio 18
# Criando o dicionário com nomes de alunos e suas notas
notas_alunos = {
    'Lucas': 7,
    'Hernanes': 8,
    'Aloisio': 6
}

# Calculando a média das notas
soma_notas = sum(notas_alunos.values())
numero_alunos = len(notas_alunos)
media = soma_notas / numero_alunos

# Exibindo a média das notas
print(f"A média das notas é: {media:.2f}")

# Exercicio 19
# Criando um dicionário com alguns pares chave-valor
dicionario = {
    'nome': 'Muricy',
    'idade': 68,
    'profissão': 'treinador',
    'hobbys': ['futebol', 'praia', 'filmes']
}

# Solicita ao usuário que insira uma chave para buscar
chave_busca = input("Digite a chave que deseja buscar: ")

# Verificando se a chave existe no dicionário
if chave_busca in dicionario:
    print(f"O valor da chave '{chave_busca}' é: {dicionario[chave_busca]}")
else:
    print(f"A chave '{chave_busca}' não foi encontrada.")

# Exercicio 20
# Definindo o dicionário de produtos e preços
produtos = {
    'pão': 2.50,
    'leite': 3.00,
    'café': 4.50
}

# Exibindo o dicionário inicial
print("Produtos e preços iniciais:")
print(produtos)

# Solicita ao usuário que insira o nome do produto e o novo preço
produto_alterar = input("Digite o nome do produto cujo preço deseja alterar: ")
novo_preco = float(input("Digite o novo preço: "))

# Atualizando o preço do produto
produtos[produto_alterar] = novo_preco

# Exibindo o dicionário atualizado
print("Dicionário atualizado:")
print(produtos)
