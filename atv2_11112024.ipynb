{
  "nbformat": 4,
  "nbformat_minor": 0,
  "metadata": {
    "colab": {
      "provenance": [],
      "authorship_tag": "ABX9TyPCZ8P9Nz9ojGNMZMjOrwkY",
      "include_colab_link": true
    },
    "kernelspec": {
      "name": "python3",
      "display_name": "Python 3"
    },
    "language_info": {
      "name": "python"
    }
  },
  "cells": [
    {
      "cell_type": "markdown",
      "metadata": {
        "id": "view-in-github",
        "colab_type": "text"
      },
      "source": [
        "<a href=\"https://colab.research.google.com/github/Hugo-M-da-Silva/ENG_20242/blob/main/atv2_11112024.ipynb\" target=\"_parent\"><img src=\"https://colab.research.google.com/assets/colab-badge.svg\" alt=\"Open In Colab\"/></a>"
      ]
    },
    {
      "cell_type": "code",
      "execution_count": 1,
      "metadata": {
        "id": "Hao72tbaIMkR"
      },
      "outputs": [],
      "source": [
        "def numeros_impares(lista):\n",
        "    return [num for num in lista if num % 2 != 0]"
      ]
    },
    {
      "cell_type": "code",
      "source": [
        "def dobra_elementos(lista):\n",
        "    return [num * 2 for num in lista]"
      ],
      "metadata": {
        "id": "oSFqhgKzJJwW"
      },
      "execution_count": null,
      "outputs": []
    },
    {
      "cell_type": "code",
      "source": [
        "def remove_duplicatas(lista):\n",
        "    return list(set(lista))"
      ],
      "metadata": {
        "id": "blc4gweSJMqG"
      },
      "execution_count": null,
      "outputs": []
    },
    {
      "cell_type": "code",
      "source": [
        "  def divisiveis_por(lista, divisor):\n",
        "    return [num for num in lista if num % divisor == 0]"
      ],
      "metadata": {
        "id": "iu3DU87EJPvi"
      },
      "execution_count": 2,
      "outputs": []
    },
    {
      "cell_type": "code",
      "source": [
        "def intersecao_listas(lista1, lista2):\n",
        "    return set(lista1) & set(lista2)"
      ],
      "metadata": {
        "id": "6Pvq_70CJVAk"
      },
      "execution_count": null,
      "outputs": []
    },
    {
      "cell_type": "code",
      "source": [
        "def inversao_lista(lista):\n",
        "    return lista[::-1]"
      ],
      "metadata": {
        "id": "f_geMM-HJeRc"
      },
      "execution_count": null,
      "outputs": []
    },
    {
      "cell_type": "code",
      "source": [
        "def quadrados(lista):\n",
        "    return [num ** 2 for num in lista]"
      ],
      "metadata": {
        "id": "wdQR1fphJh4u"
      },
      "execution_count": null,
      "outputs": []
    },
    {
      "cell_type": "code",
      "source": [
        "def maiores_que(lista, valor):\n",
        "    return [num for num in lista if num > valor]"
      ],
      "metadata": {
        "id": "xIcqh-beJlD9"
      },
      "execution_count": null,
      "outputs": []
    },
    {
      "cell_type": "code",
      "source": [
        "def elementos_unicos(lista1, lista2):\n",
        "    return list(set(lista1) ^ set(lista2))"
      ],
      "metadata": {
        "id": "iQDue4LYJn6i"
      },
      "execution_count": null,
      "outputs": []
    },
    {
      "cell_type": "code",
      "source": [
        "def elementos_unicos_conjunto(lista):\n",
        "    return set(lista)"
      ],
      "metadata": {
        "id": "fuISxplvJq3M"
      },
      "execution_count": null,
      "outputs": []
    },
    {
      "cell_type": "code",
      "source": [
        "def elementos_unicos_em_ambas(lista1, lista2):\n",
        "    return list(set(lista1) & set(lista2))"
      ],
      "metadata": {
        "id": "3qnqycZTJtbY"
      },
      "execution_count": null,
      "outputs": []
    },
    {
      "cell_type": "code",
      "source": [
        "def elementos_repetidos(lista):\n",
        "    return [item for item in set(lista) if lista.count(item) > 1]\n"
      ],
      "metadata": {
        "id": "KrJetSWJJwdq"
      },
      "execution_count": null,
      "outputs": []
    },
    {
      "cell_type": "code",
      "source": [
        "def numeros_pares(lista):\n",
        "    return [num for num in lista if num % 2 == 0]"
      ],
      "metadata": {
        "id": "TUaLnG9-Jzbq"
      },
      "execution_count": 6,
      "outputs": []
    },
    {
      "cell_type": "code",
      "source": [
        "def indices_maiores_que(lista, valor):\n",
        "    return [index for index, num in enumerate(lista) if num > valor]"
      ],
      "metadata": {
        "id": "_NWbNw01J24P"
      },
      "execution_count": 5,
      "outputs": []
    },
    {
      "cell_type": "code",
      "source": [
        "def tamanho_strings(lista):\n",
        "    return [len(string) for string in lista]"
      ],
      "metadata": {
        "id": "-WujqriMJ5rf"
      },
      "execution_count": null,
      "outputs": []
    },
    {
      "cell_type": "code",
      "source": [
        "def cubos(lista):\n",
        "    return [num ** 3 for num in lista]"
      ],
      "metadata": {
        "id": "a-DVR4y4J-V_"
      },
      "execution_count": null,
      "outputs": []
    },
    {
      "cell_type": "code",
      "source": [
        "def lista_elementos_unicos(lista):\n",
        "    return list(set(lista))"
      ],
      "metadata": {
        "id": "GhXoTgVmKBMc"
      },
      "execution_count": 4,
      "outputs": []
    },
    {
      "cell_type": "code",
      "source": [
        "def strings_maiusculas(lista):\n",
        "    return [string for string in lista if string and string[0].isupper()]"
      ],
      "metadata": {
        "id": "s28rPXNCKaL6"
      },
      "execution_count": null,
      "outputs": []
    },
    {
      "cell_type": "code",
      "source": [
        "def multiplos_de_tres(lista):\n",
        "    return [num for num in lista if num % 3 == 0]"
      ],
      "metadata": {
        "id": "6YM9nRrrKczY"
      },
      "execution_count": 3,
      "outputs": []
    },
    {
      "cell_type": "code",
      "source": [
        "def intersecao_ordenada(lista1, lista2):\n",
        "    return sorted(set(lista1) & set(lista2))"
      ],
      "metadata": {
        "id": "7KyUxsETKfLs"
      },
      "execution_count": null,
      "outputs": []
    }
  ]
}