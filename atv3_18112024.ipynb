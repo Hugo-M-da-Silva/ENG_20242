{
  "nbformat": 4,
  "nbformat_minor": 0,
  "metadata": {
    "colab": {
      "provenance": [],
      "authorship_tag": "ABX9TyMOqDdc6LJ9cAVOaN17a2jW"
    },
    "kernelspec": {
      "name": "python3",
      "display_name": "Python 3"
    },
    "language_info": {
      "name": "python"
    }
  },
  "cells": [
    {
      "cell_type": "code",
      "execution_count": null,
      "metadata": {
        "id": "b_85DFJdhuy5"
      },
      "outputs": [],
      "source": [
        "numeros = [1, 2, 3, 4, 5]\n",
        "\n",
        "quadrados = list(map(lambda x: x**2, numeros))\n",
        "\n",
        "print(quadrados)"
      ]
    },
    {
      "cell_type": "code",
      "source": [
        "celsius = [0, 10, 20, 30, 40]\n",
        "\n",
        "fahrenheit = list(map(lambda x: (9/5) * x + 32, celsius))\n",
        "\n",
        "print(fahrenheit)"
      ],
      "metadata": {
        "colab": {
          "base_uri": "https://localhost:8080/"
        },
        "id": "Hc_SMOl-iEjW",
        "outputId": "74cae701-cf29-4e5e-e493-b9d34ff5f4be"
      },
      "execution_count": 5,
      "outputs": [
        {
          "output_type": "stream",
          "name": "stdout",
          "text": [
            "[32.0, 50.0, 68.0, 86.0, 104.0]\n"
          ]
        }
      ]
    },
    {
      "cell_type": "code",
      "source": [
        "palavras = [\"spfc\", \"soberano\", \"trimundial\"]\n",
        "\n",
        "comprimentos = list(map(lambda x: len(x), palavras))\n",
        "\n",
        "print(comprimentos)"
      ],
      "metadata": {
        "colab": {
          "base_uri": "https://localhost:8080/"
        },
        "id": "Y6k5Y_47ikF3",
        "outputId": "2e981511-2da6-4315-fc1f-b58c52281cc3"
      },
      "execution_count": 6,
      "outputs": [
        {
          "output_type": "stream",
          "name": "stdout",
          "text": [
            "[4, 8, 10]\n"
          ]
        }
      ]
    },
    {
      "cell_type": "code",
      "source": [
        "numeros = [1, 2, 3, 4, 5]\n",
        "\n",
        "dobrados = list(map(lambda x: x * 2, numeros))\n",
        "\n",
        "print(dobrados)"
      ],
      "metadata": {
        "colab": {
          "base_uri": "https://localhost:8080/"
        },
        "id": "s_DvOF1Wi6wb",
        "outputId": "58d3ffd3-408e-464c-aecd-c9691ac4a673"
      },
      "execution_count": 7,
      "outputs": [
        {
          "output_type": "stream",
          "name": "stdout",
          "text": [
            "[2, 4, 6, 8, 10]\n"
          ]
        }
      ]
    },
    {
      "cell_type": "code",
      "source": [
        "nomes = [\"Rogerio\", \"Rai\", \"Calleri\"]\n",
        "\n",
        "nomes_com_prefixo = list(map(lambda nome: \"Sr./Sra. \" + nome, nomes))\n",
        "\n",
        "print(nomes_com_prefixo)"
      ],
      "metadata": {
        "colab": {
          "base_uri": "https://localhost:8080/"
        },
        "id": "RLX2fKSejDG1",
        "outputId": "e5d27fcb-09dd-4338-c7a5-b7fd813e1ba5"
      },
      "execution_count": 8,
      "outputs": [
        {
          "output_type": "stream",
          "name": "stdout",
          "text": [
            "['Sr./Sra. Rogerio', 'Sr./Sra. Rai', 'Sr./Sra. Calleri']\n"
          ]
        }
      ]
    },
    {
      "cell_type": "code",
      "source": [
        "numeros = [1, 2, 3, 4, 5, 6, 7, 8, 9, 10]\n",
        "\n",
        "numeros_pares = list(filter(lambda x: x % 2 == 0, numeros))\n",
        "\n",
        "print(numeros_pares)"
      ],
      "metadata": {
        "colab": {
          "base_uri": "https://localhost:8080/"
        },
        "id": "I2yqmkhRjmGk",
        "outputId": "d22549ce-0121-42ea-fcfb-d87c6ddd48bd"
      },
      "execution_count": 9,
      "outputs": [
        {
          "output_type": "stream",
          "name": "stdout",
          "text": [
            "[2, 4, 6, 8, 10]\n"
          ]
        }
      ]
    },
    {
      "cell_type": "code",
      "source": [
        "palavras = [\"Morumbi\", \"hexa\", \"Leonidas\"]\n",
        "\n",
        "palavras_curta = list(filter(lambda palavra: len(palavra) < 5, palavras))\n",
        "\n",
        "print(palavras_curta)"
      ],
      "metadata": {
        "colab": {
          "base_uri": "https://localhost:8080/"
        },
        "id": "XDelLDQ0jvSs",
        "outputId": "9b8b7a69-bffe-4606-9a8b-8b14248bec09"
      },
      "execution_count": 10,
      "outputs": [
        {
          "output_type": "stream",
          "name": "stdout",
          "text": [
            "['hexa']\n"
          ]
        }
      ]
    },
    {
      "cell_type": "code",
      "source": [
        "idades = [12, 18, 20, 24]\n",
        "\n",
        "maiores_que_18 = list(filter(lambda idade: idade > 18, idades))\n",
        "\n",
        "print(maiores_que_18)"
      ],
      "metadata": {
        "colab": {
          "base_uri": "https://localhost:8080/"
        },
        "id": "X_2Hb3mSj_1G",
        "outputId": "a8eb32a6-10a3-4d31-f02d-de205c426f0d"
      },
      "execution_count": 12,
      "outputs": [
        {
          "output_type": "stream",
          "name": "stdout",
          "text": [
            "[20, 24]\n"
          ]
        }
      ]
    },
    {
      "cell_type": "code",
      "source": [
        "strings = [\"Muller\", \"Kaka\", \"Lucas\", \"agua\"]\n",
        "\n",
        "strings_com_a = list(filter(lambda s: s.lower().startswith(\"a\"), strings))\n",
        "\n",
        "print(strings_com_a)"
      ],
      "metadata": {
        "colab": {
          "base_uri": "https://localhost:8080/"
        },
        "id": "gHleg2IakQiS",
        "outputId": "d2a3b4b8-0cfc-4b75-a506-aca7cd9996a1"
      },
      "execution_count": 13,
      "outputs": [
        {
          "output_type": "stream",
          "name": "stdout",
          "text": [
            "['agua']\n"
          ]
        }
      ]
    },
    {
      "cell_type": "code",
      "source": [
        "numeros = [-10, 5, 0, -3, 7, 2, -1]\n",
        "\n",
        "positivos = list(filter(lambda x: x > 0, numeros))\n",
        "\n",
        "print(positivos)"
      ],
      "metadata": {
        "colab": {
          "base_uri": "https://localhost:8080/"
        },
        "id": "u2VNI_vKlDGv",
        "outputId": "0686d7be-74ee-4b8f-ce3f-3aa4d2019114"
      },
      "execution_count": 14,
      "outputs": [
        {
          "output_type": "stream",
          "name": "stdout",
          "text": [
            "[5, 7, 2]\n"
          ]
        }
      ]
    },
    {
      "cell_type": "code",
      "source": [
        "from functools import reduce\n",
        "\n",
        "numeros = [1, 2, 3, 4, 5]\n",
        "\n",
        "soma = reduce(lambda x, y: x + y, numeros)\n",
        "\n",
        "print(soma)"
      ],
      "metadata": {
        "colab": {
          "base_uri": "https://localhost:8080/"
        },
        "id": "7veXngB6lRVm",
        "outputId": "1dc28273-4e1e-4268-a81e-7e442a5cadfe"
      },
      "execution_count": 15,
      "outputs": [
        {
          "output_type": "stream",
          "name": "stdout",
          "text": [
            "15\n"
          ]
        }
      ]
    },
    {
      "cell_type": "code",
      "source": [
        "from functools import reduce\n",
        "\n",
        "numeros = [3, 3, 6]\n",
        "\n",
        "produto = reduce(lambda x, y: x * y, numeros)\n",
        "\n",
        "print(produto)"
      ],
      "metadata": {
        "colab": {
          "base_uri": "https://localhost:8080/"
        },
        "id": "i3unbAZhldwE",
        "outputId": "ac9b2a81-645d-4721-e28f-c2d3f5d9f6fa"
      },
      "execution_count": 16,
      "outputs": [
        {
          "output_type": "stream",
          "name": "stdout",
          "text": [
            "54\n"
          ]
        }
      ]
    },
    {
      "cell_type": "code",
      "source": [
        "numeros = [3, 4, 1, 5, 9, 2, 6, 5]\n",
        "\n",
        "maior_numero = max(numeros, key=lambda x: x)\n",
        "\n",
        "print(maior_numero)"
      ],
      "metadata": {
        "colab": {
          "base_uri": "https://localhost:8080/"
        },
        "id": "T5OddNXZln3y",
        "outputId": "f3153420-a4cc-4752-f4ff-e0314ca37b7b"
      },
      "execution_count": 17,
      "outputs": [
        {
          "output_type": "stream",
          "name": "stdout",
          "text": [
            "9\n"
          ]
        }
      ]
    },
    {
      "cell_type": "code",
      "source": [
        "from functools import reduce\n",
        "\n",
        "palavras = [\"tricolor\", \"paulista\", \"maior\", \"do\", \"Brasil\"]\n",
        "\n",
        "resultado = reduce(lambda x, y: x + \" \" + y, palavras)\n",
        "\n",
        "print(resultado)"
      ],
      "metadata": {
        "colab": {
          "base_uri": "https://localhost:8080/"
        },
        "id": "pfIieE0Bl0Yt",
        "outputId": "9736133d-0267-459f-b6a8-d7ccf5304427"
      },
      "execution_count": 18,
      "outputs": [
        {
          "output_type": "stream",
          "name": "stdout",
          "text": [
            "tricolor paulista maior do Brasil\n"
          ]
        }
      ]
    },
    {
      "cell_type": "code",
      "source": [
        "numeros = [2008, 92, 93]\n",
        "\n",
        "soma_dos_digitos = list(map(lambda x: sum(int(digit) for digit in str(x)), numeros))\n",
        "\n",
        "print(soma_dos_digitos)"
      ],
      "metadata": {
        "colab": {
          "base_uri": "https://localhost:8080/"
        },
        "id": "H_JhaK46mZDj",
        "outputId": "c6971b26-1bf5-4330-b39d-ea644c61aa5e"
      },
      "execution_count": 20,
      "outputs": [
        {
          "output_type": "stream",
          "name": "stdout",
          "text": [
            "[10, 11, 12]\n"
          ]
        }
      ]
    },
    {
      "cell_type": "code",
      "source": [
        "numeros = [8, 15, 30]\n",
        "\n",
        "resultado = list(filter(lambda x: x > 20, map(lambda x: x * 2, numeros)))\n",
        "\n",
        "print(resultado)"
      ],
      "metadata": {
        "colab": {
          "base_uri": "https://localhost:8080/"
        },
        "id": "StvFSCwsm6u7",
        "outputId": "85efb083-7ce9-4cf9-c269-49ca8ab0b131"
      },
      "execution_count": 21,
      "outputs": [
        {
          "output_type": "stream",
          "name": "stdout",
          "text": [
            "[30, 60]\n"
          ]
        }
      ]
    },
    {
      "cell_type": "code",
      "source": [
        "palavras = [\"Rogerio\", \"Morumbis\", \"Cerezo\"]\n",
        "\n",
        "palavras_com_e = list(filter(lambda palavra: \"e\" in palavra.lower(), palavras))\n",
        "\n",
        "quantidade_e = sum(map(lambda palavra: palavra.lower().count(\"e\"), palavras_com_e))\n",
        "\n",
        "print(f'Palavras com \"e\": {palavras_com_e}')\n",
        "print(f'Número total de letras \"e\": {quantidade_e}')"
      ],
      "metadata": {
        "colab": {
          "base_uri": "https://localhost:8080/"
        },
        "id": "MuGEKMOZnIZK",
        "outputId": "8e3bc9cf-7ea8-485b-fe27-6a323c6aa0a4"
      },
      "execution_count": 23,
      "outputs": [
        {
          "output_type": "stream",
          "name": "stdout",
          "text": [
            "Palavras com \"e\": ['Rogerio', 'Cerezo']\n",
            "Número total de letras \"e\": 3\n"
          ]
        }
      ]
    },
    {
      "cell_type": "code",
      "source": [
        "temperaturas_fahrenheit = [32, 50, 77, 104, 59, 68]\n",
        "\n",
        "temperaturas_abaixo_de_20 = list(filter(lambda celsius: celsius < 20,\n",
        "                                       map(lambda f: (5/9) * (f - 32), temperaturas_fahrenheit)))\n",
        "\n",
        "print(temperaturas_abaixo_de_20)"
      ],
      "metadata": {
        "colab": {
          "base_uri": "https://localhost:8080/"
        },
        "id": "pSsfNrs-oBgl",
        "outputId": "b8afcf59-1c8b-4b59-e70c-fefb06820752"
      },
      "execution_count": 24,
      "outputs": [
        {
          "output_type": "stream",
          "name": "stdout",
          "text": [
            "[0.0, 10.0, 15.0]\n"
          ]
        }
      ]
    },
    {
      "cell_type": "code",
      "source": [
        "numeros = [1, 2, 3, 4, 5, 6, 7, 8, 9, 10]\n",
        "\n",
        "soma_pares = sum(filter(lambda x: x % 2 == 0, numeros))\n",
        "\n",
        "print(soma_pares)"
      ],
      "metadata": {
        "colab": {
          "base_uri": "https://localhost:8080/"
        },
        "id": "rR-JwoZ_oOT-",
        "outputId": "c88fafae-8668-487a-bb28-3372c41b0606"
      },
      "execution_count": 25,
      "outputs": [
        {
          "output_type": "stream",
          "name": "stdout",
          "text": [
            "30\n"
          ]
        }
      ]
    },
    {
      "cell_type": "code",
      "source": [
        "numeros = [-5, 3, -2, 8, -1, 6]\n",
        "\n",
        "numeros_ajustados = list(map(lambda x: x if x >= 0 else 0, numeros))\n",
        "\n",
        "print(numeros_ajustados)"
      ],
      "metadata": {
        "colab": {
          "base_uri": "https://localhost:8080/"
        },
        "id": "h05AFu0BoZB-",
        "outputId": "d7695271-18e9-464f-a48e-882069b7b023"
      },
      "execution_count": 27,
      "outputs": [
        {
          "output_type": "stream",
          "name": "stdout",
          "text": [
            "[0, 3, 0, 8, 0, 6]\n"
          ]
        }
      ]
    },
    {
      "cell_type": "code",
      "source": [
        "numeros = [1, 2, 3]\n",
        "\n",
        "cubos = list(map(lambda x: x ** 3, numeros))\n",
        "\n",
        "print(cubos)"
      ],
      "metadata": {
        "colab": {
          "base_uri": "https://localhost:8080/"
        },
        "id": "DpUhoMg1340X",
        "outputId": "05114170-612b-4f2e-f089-7c0d91217032"
      },
      "execution_count": 28,
      "outputs": [
        {
          "output_type": "stream",
          "name": "stdout",
          "text": [
            "[1, 8, 27]\n"
          ]
        }
      ]
    },
    {
      "cell_type": "code",
      "source": [
        "eh_primo = lambda x: x > 1 and all(x % i != 0 for i in range(2, int(x ** 0.5) + 1))\n",
        "\n",
        "print(eh_primo(2))\n",
        "print(eh_primo(4))"
      ],
      "metadata": {
        "colab": {
          "base_uri": "https://localhost:8080/"
        },
        "id": "QlHHEYA5371T",
        "outputId": "57bb605c-9492-42ac-f74e-06148e2ea0f5"
      },
      "execution_count": 30,
      "outputs": [
        {
          "output_type": "stream",
          "name": "stdout",
          "text": [
            "True\n",
            "False\n"
          ]
        }
      ]
    },
    {
      "cell_type": "code",
      "source": [
        "numeros = [10, 20, 30, 40, 50]\n",
        "\n",
        "resultados = list(map(lambda x: x / 5, numeros))\n",
        "\n",
        "print(resultados)"
      ],
      "metadata": {
        "colab": {
          "base_uri": "https://localhost:8080/"
        },
        "id": "sSFgS86B4Ze0",
        "outputId": "08d1e597-5ed9-4f90-e2e1-22fde6794b89"
      },
      "execution_count": 31,
      "outputs": [
        {
          "output_type": "stream",
          "name": "stdout",
          "text": [
            "[2.0, 4.0, 6.0, 8.0, 10.0]\n"
          ]
        }
      ]
    },
    {
      "cell_type": "code",
      "source": [
        "texto = \"Hexabrasileiro\"\n",
        "\n",
        "resultado = ''.join(filter(lambda x: x.lower() not in 'aeiou', texto))\n",
        "\n",
        "print(resultado)"
      ],
      "metadata": {
        "colab": {
          "base_uri": "https://localhost:8080/"
        },
        "id": "LFp7DojL4inF",
        "outputId": "6e6b2507-f50e-460c-9501-e251f248bdf7"
      },
      "execution_count": 32,
      "outputs": [
        {
          "output_type": "stream",
          "name": "stdout",
          "text": [
            "Hxbrslr\n"
          ]
        }
      ]
    },
    {
      "cell_type": "code",
      "source": [
        "palavras = [\"casa\", \"mesa\", \"banho\"]\n",
        "\n",
        "palavras_maiusculas = list(map(lambda x: x.upper(), palavras))\n",
        "\n",
        "print(palavras_maiusculas)"
      ],
      "metadata": {
        "colab": {
          "base_uri": "https://localhost:8080/"
        },
        "id": "kttUmplf4ya5",
        "outputId": "2a368646-6c88-4568-9bc5-077034fd27cb"
      },
      "execution_count": 33,
      "outputs": [
        {
          "output_type": "stream",
          "name": "stdout",
          "text": [
            "['CASA', 'MESA', 'BANHO']\n"
          ]
        }
      ]
    },
    {
      "cell_type": "code",
      "source": [
        "numeros = [10, -5, 3, -2]\n",
        "\n",
        "numeros_negativos = list(filter(lambda x: x < 0, numeros))\n",
        "\n",
        "print(numeros_negativos)"
      ],
      "metadata": {
        "colab": {
          "base_uri": "https://localhost:8080/"
        },
        "id": "HZwrj_bh5CgU",
        "outputId": "eb202c71-b1ff-4cc2-c466-b3f84882b166"
      },
      "execution_count": 36,
      "outputs": [
        {
          "output_type": "stream",
          "name": "stdout",
          "text": [
            "[-5, -2]\n"
          ]
        }
      ]
    },
    {
      "cell_type": "code",
      "source": [
        "numeros = [-10, 5, -3, 8, -7]\n",
        "\n",
        "valores_absolutos = list(map(lambda x: abs(x), numeros))\n",
        "\n",
        "print(valores_absolutos)"
      ],
      "metadata": {
        "colab": {
          "base_uri": "https://localhost:8080/"
        },
        "id": "RAU58F4E5Oqk",
        "outputId": "84f4dce6-2c8f-4c71-853e-341c715d779f"
      },
      "execution_count": 37,
      "outputs": [
        {
          "output_type": "stream",
          "name": "stdout",
          "text": [
            "[10, 5, 3, 8, 7]\n"
          ]
        }
      ]
    },
    {
      "cell_type": "code",
      "source": [
        "numeros = [10, 15, 22, 30, 7]\n",
        "\n",
        "restos = list(map(lambda x: x % 3, numeros))\n",
        "\n",
        "print(restos)"
      ],
      "metadata": {
        "colab": {
          "base_uri": "https://localhost:8080/"
        },
        "id": "rWlzsde25X1s",
        "outputId": "d8480862-0823-4c83-960e-63f95c1fd7be"
      },
      "execution_count": 38,
      "outputs": [
        {
          "output_type": "stream",
          "name": "stdout",
          "text": [
            "[1, 0, 1, 0, 1]\n"
          ]
        }
      ]
    },
    {
      "cell_type": "code",
      "source": [
        "numeros = [10, 20, 30, 40, 50]\n",
        "\n",
        "resultados = list(map(lambda x: x[1] * x[0], enumerate(numeros)))\n",
        "\n",
        "print(resultados)"
      ],
      "metadata": {
        "colab": {
          "base_uri": "https://localhost:8080/"
        },
        "id": "crjgy1Z55jlC",
        "outputId": "45ab1f10-630d-4392-c7fa-471c7ef027e7"
      },
      "execution_count": 39,
      "outputs": [
        {
          "output_type": "stream",
          "name": "stdout",
          "text": [
            "[0, 20, 60, 120, 200]\n"
          ]
        }
      ]
    },
    {
      "cell_type": "code",
      "source": [
        "eh_palindromo = lambda x: x == x[::-1]\n",
        "\n",
        "print(eh_palindromo(\"arara\"))\n",
        "print(eh_palindromo(\"casa\"))"
      ],
      "metadata": {
        "colab": {
          "base_uri": "https://localhost:8080/"
        },
        "id": "KjBzWukH5srt",
        "outputId": "d11c5175-d3e1-4430-ab07-ef89de75082c"
      },
      "execution_count": 42,
      "outputs": [
        {
          "output_type": "stream",
          "name": "stdout",
          "text": [
            "True\n",
            "False\n"
          ]
        }
      ]
    }
  ]
}